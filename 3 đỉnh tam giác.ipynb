{
 "cells": [
  {
   "cell_type": "code",
   "execution_count": 8,
   "id": "32f92901",
   "metadata": {},
   "outputs": [
    {
     "name": "stdout",
     "output_type": "stream",
     "text": [
      "3 điểm A, B, C có là 3 đỉnh của tam giác: True\n",
      "Tam giác ABC là tam giác cân:  False\n",
      "Tam giác ABC là tam giác đều:  False\n",
      "Tam giác ABC là tam giác vuông:  True\n"
     ]
    }
   ],
   "source": [
    "import math\n",
    "# Khai báo biến \n",
    "xA= -2\n",
    "yA= 3\n",
    "xB= 5\n",
    "yB= 2\n",
    "xC= -1\n",
    "yC= 0\n",
    "# Tính toán\n",
    "a= math.sqrt((xC-xB)*(xC-xB)+(yC-yB)*(yC-yB))\n",
    "b= math.sqrt((xC-xA)*(xC-xA)+(yC-yA)*(yC-yA))\n",
    "c= math.sqrt((xB-xA)*(xB-xA)+(yB-yA)*(yB-yA))\n",
    "#Kiểm tra 3 đỉnh của tam giác\n",
    "tam_giac= a + b != c and a + c != b and b + c != a\n",
    "print('3 điểm A, B, C có là 3 đỉnh của tam giác:', tam_giac)\n",
    "tam_giac_can= tam_giac and (a==b or b==c or a==c)\n",
    "print('Tam giác ABC là tam giác cân:', tam_giac_can)\n",
    "tam_giac_deu= tam_giac and (a==b and b==c and a==c)\n",
    "print('Tam giác ABC là tam giác đều:', tam_giac_deu)\n",
    "tam_giac_vuong= tam_giac and (a*a == b*b + c*c or b*b == a*a + c*c or c*c == a*a + b*b)\n",
    "print('Tam giác ABC là tam giác vuông:', tam_giac_vuong)"
   ]
  },
  {
   "cell_type": "code",
   "execution_count": null,
   "id": "8f72272e",
   "metadata": {},
   "outputs": [],
   "source": []
  },
  {
   "cell_type": "code",
   "execution_count": null,
   "id": "74ff6518",
   "metadata": {},
   "outputs": [],
   "source": []
  }
 ],
 "metadata": {
  "kernelspec": {
   "display_name": "Python 3 (ipykernel)",
   "language": "python",
   "name": "python3"
  },
  "language_info": {
   "codemirror_mode": {
    "name": "ipython",
    "version": 3
   },
   "file_extension": ".py",
   "mimetype": "text/x-python",
   "name": "python",
   "nbconvert_exporter": "python",
   "pygments_lexer": "ipython3",
   "version": "3.9.7"
  }
 },
 "nbformat": 4,
 "nbformat_minor": 5
}
