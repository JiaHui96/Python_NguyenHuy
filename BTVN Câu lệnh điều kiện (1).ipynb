{
 "cells": [
  {
   "cell_type": "code",
   "execution_count": null,
   "id": "eaf9e87d",
   "metadata": {},
   "outputs": [],
   "source": [
    "#Bài 1: Pytago\n",
    "a= int(input('Nhập số a: '))\n",
    "b= int(input('Nhập số b: '))\n",
    "c= int(input('Nhập số c: '))\n",
    "\n",
    "if (b*b + c*c == a*a) or (a*a + c*c == b*b) or (b*b + a*a == c*c):\n",
    "    print('3 số {0}, {1}, {2} tạo nên 1 bộ số Pytago'.format(a, b, c))\n",
    "else:\n",
    "    print('3 số {0}, {1}, {2} không tạo nên 1 bộ số Pytago'.format(a, b, c))"
   ]
  },
  {
   "cell_type": "code",
   "execution_count": 7,
   "id": "40176e66",
   "metadata": {},
   "outputs": [
    {
     "name": "stdout",
     "output_type": "stream",
     "text": [
      "Nhập số phút gọi bất kỳ: -10\n",
      "Dữ liệu đầu vào sai\n"
     ]
    }
   ],
   "source": [
    "#Bài 2: Tính giá cước điện thoại (chữa bài)\n",
    "a= int(input('Nhập số phút gọi bất kỳ: '))\n",
    "phi= 25000\n",
    "\n",
    "if a<0:\n",
    "    print('Dữ liệu đầu vào sai')\n",
    "else:\n",
    "    if a<=50: \n",
    "        gia= phi + 600*a\n",
    "    elif a>50 and a<= 200:\n",
    "        gia= phi + 600*50 + (a-50)*400\n",
    "    else:\n",
    "        gia= phi + 600*50 + 150*400 + (a-200)*200\n",
    "    print('Số tiền hộ gia đình phải trả phí là:', gia)    \n",
    "    \n",
    "# Chỉ cần print 1 lần ở cuối, để ở d"
   ]
  },
  {
   "cell_type": "code",
   "execution_count": 11,
   "id": "7c94bf56",
   "metadata": {},
   "outputs": [
    {
     "name": "stdout",
     "output_type": "stream",
     "text": [
      "My date: 2022-04-04 00:00:00, Mon\n"
     ]
    }
   ],
   "source": [
    "#Bài 3: In ngày \n",
    "import datetime\n",
    "\n",
    "day= 4\n",
    "month= 4\n",
    "year= 2022\n",
    "\n",
    "mydate= datetime.datetime(year, month, day)\n",
    "\n",
    "weekday= mydate.weekday()\n",
    "\n",
    "if weekday== 0: \n",
    "        print('My date: {0}, Mon'.format(mydate))\n",
    "elif weekday== 1:\n",
    "        print('My date: {0}, Tue'.format(mydate))\n",
    "elif weekday== 2:\n",
    "        print('My date: {0}, Wed 4'.format(mydate))\n",
    "elif weekday== 3:\n",
    "        print('My date: {0}, Thu'.format(mydate))\n",
    "elif weekday== 4:\n",
    "        print('My date: {0}, Fri'.format(mydate))\n",
    "elif weekday== 5:\n",
    "        print('My date: {0}, Sat'.format(mydate))\n",
    "else:\n",
    "        print('My date: {0}, Sun'.format(mydate))"
   ]
  },
  {
   "cell_type": "code",
   "execution_count": null,
   "id": "79be0d74",
   "metadata": {},
   "outputs": [],
   "source": []
  }
 ],
 "metadata": {
  "kernelspec": {
   "display_name": "Python 3 (ipykernel)",
   "language": "python",
   "name": "python3"
  },
  "language_info": {
   "codemirror_mode": {
    "name": "ipython",
    "version": 3
   },
   "file_extension": ".py",
   "mimetype": "text/x-python",
   "name": "python",
   "nbconvert_exporter": "python",
   "pygments_lexer": "ipython3",
   "version": "3.9.7"
  }
 },
 "nbformat": 4,
 "nbformat_minor": 5
}
