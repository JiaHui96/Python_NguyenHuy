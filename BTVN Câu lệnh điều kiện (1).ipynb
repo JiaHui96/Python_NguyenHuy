{
 "cells": [
  {
   "cell_type": "code",
   "execution_count": null,
   "id": "eaf9e87d",
   "metadata": {},
   "outputs": [],
   "source": [
    "#Bài 1: Pytago\n",
    "a= int(input('Nhập số a: '))\n",
    "b= int(input('Nhập số b: '))\n",
    "c= int(input('Nhập số c: '))\n",
    "\n",
    "if (b*b + c*c == a*a) or (a*a + c*c == b*b) or (b*b + a*a == c*c):\n",
    "    print('3 số {0}, {1}, {2} tạo nên 1 bộ số Pytago'.format(a, b, c))\n",
    "else:\n",
    "    print('3 số {0}, {1}, {2} không tạo nên 1 bộ số Pytago'.format(a, b, c))"
   ]
  },
  {
   "cell_type": "code",
   "execution_count": null,
   "id": "40176e66",
   "metadata": {},
   "outputs": [],
   "source": [
    "#Bài 2: Tính giá cước điện thoại \n",
    "a= int(input('Nhập số phút gọi bất kỳ: '))\n",
    "phi= 25000\n",
    "\n",
    "if a<=50: \n",
    "    gia= phi + 600*a\n",
    "    print('Số tiền hộ gia đình phải trả phí là:', gia)\n",
    "elif a<=200:\n",
    "    gia= phi + 600*50 + (a-50)*400\n",
    "    print('Số tiền hộ gia đình phải trả phí là:', gia)\n",
    "else:\n",
    "    gia= phi + 600*50 + 150*400 + (a-200)*200\n",
    "    print('Số tiền hộ gia đình phải trả phí là:', gia)    \n",
    "    "
   ]
  },
  {
   "cell_type": "code",
   "execution_count": null,
   "id": "7c94bf56",
   "metadata": {},
   "outputs": [],
   "source": [
    "#Bài 3: In ngày \n",
    "a= int(input('Nhập số bất kỳ từ 0 đến 6: '))\n",
    "\n",
    "if a<= 6: \n",
    "    if a== 0: \n",
    "        print('a= {0}, Thứ 2'.format(a))\n",
    "    elif a== 1:\n",
    "        print('a= {0}, Thứ 3'.format(a))\n",
    "    elif a== 2:\n",
    "        print('a= {0}, Thứ 4'.format(a))\n",
    "    elif a== 3:\n",
    "        print('a= {0}, Thứ 5'.format(a))\n",
    "    elif a== 4:\n",
    "        print('a= {0}, Thứ 6'.format(a))\n",
    "    elif a== 5:\n",
    "        print('a= {0}, Thứ 7'.format(a))\n",
    "    elif a== 6:\n",
    "        print('a= {0}, Chủ nhật'.format(a))\n",
    "else: \n",
    "    print('Lỗi nhập dữ liệu đầu vào')"
   ]
  }
 ],
 "metadata": {
  "kernelspec": {
   "display_name": "Python 3 (ipykernel)",
   "language": "python",
   "name": "python3"
  },
  "language_info": {
   "codemirror_mode": {
    "name": "ipython",
    "version": 3
   },
   "file_extension": ".py",
   "mimetype": "text/x-python",
   "name": "python",
   "nbconvert_exporter": "python",
   "pygments_lexer": "ipython3",
   "version": "3.9.7"
  }
 },
 "nbformat": 4,
 "nbformat_minor": 5
}
