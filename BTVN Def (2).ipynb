{
 "cells": [
  {
   "cell_type": "code",
   "execution_count": 8,
   "id": "18209543",
   "metadata": {},
   "outputs": [
    {
     "name": "stdout",
     "output_type": "stream",
     "text": [
      "Nhập chuỗi: 12 34 56 231 3 7 45\n",
      "Giá trị lớn nhất, nhỏ nhất trong chuỗi trên (56, 3)\n"
     ]
    }
   ],
   "source": [
    "def max_min(number):\n",
    "    '''Tìm số nhỏ nhất, lớn nhất trong 1 chuỗi ký tự'''\n",
    "    number = number.strip().split()\n",
    "    max_values = 0\n",
    "    min_values = 999999\n",
    "    \n",
    "    for i in number:\n",
    "        if i.isdigit():\n",
    "            if int(i)%2==0: \n",
    "                if int(i) >= max_values:\n",
    "                    max_values = int(i)\n",
    "            else:\n",
    "                if int(i) <= min_values:\n",
    "                    min_values = int(i)\n",
    "    return max_values, min_values\n",
    "\n",
    "text = input('Nhập chuỗi: ')\n",
    "print('Giá trị lớn nhất, nhỏ nhất trong chuỗi trên {0}'.format(max_min(text)))\n",
    "\n"
   ]
  },
  {
   "cell_type": "code",
   "execution_count": 15,
   "id": "22af6a97",
   "metadata": {},
   "outputs": [
    {
     "name": "stdout",
     "output_type": "stream",
     "text": [
      "False\n"
     ]
    }
   ],
   "source": [
    "a = '-2'\n",
    "print(a.isdigit())"
   ]
  },
  {
   "cell_type": "code",
   "execution_count": null,
   "id": "d4506eff",
   "metadata": {},
   "outputs": [],
   "source": []
  }
 ],
 "metadata": {
  "kernelspec": {
   "display_name": "Python 3 (ipykernel)",
   "language": "python",
   "name": "python3"
  },
  "language_info": {
   "codemirror_mode": {
    "name": "ipython",
    "version": 3
   },
   "file_extension": ".py",
   "mimetype": "text/x-python",
   "name": "python",
   "nbconvert_exporter": "python",
   "pygments_lexer": "ipython3",
   "version": "3.9.7"
  }
 },
 "nbformat": 4,
 "nbformat_minor": 5
}
