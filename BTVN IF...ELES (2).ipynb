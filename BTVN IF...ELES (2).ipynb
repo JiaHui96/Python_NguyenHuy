{
 "cells": [
  {
   "cell_type": "code",
   "execution_count": null,
   "id": "12a53dc7",
   "metadata": {},
   "outputs": [],
   "source": [
    "#Bài 1: Xếp loại học sinh\n",
    "diem_15p= float(input('Nhập điểm kiểm tra 15 phút: '))\n",
    "giua_ky= float(input('Nhập điểm kiểm tra giữa kỳ: '))\n",
    "cuoi_ky= float(input('Nhập điểm kiểm tra cuối kỳ: '))\n",
    "\n",
    "a= 1 #Hệ số điểm 15 phút \n",
    "b= 1.5 #Hệ số điểm giữa kỳ\n",
    "c= 2 #Hệ số điểm cuối kỳ\n",
    "\n",
    "if diem_15p<0 or diem_15p>10 or giua_ky<0 or giua_ky>10 or cuoi_ky<0 or cuoi_ky>10:\n",
    "    print('Sai dữ liệu đầu vào')\n",
    "else:\n",
    "    TB_diem= (a*diem_15p + b*giua_ky + c*cuoi_ky)/(a+b+c)\n",
    "    if TB_diem>= 8:\n",
    "        print('Tổng thang điểm môn Toán: {0} điểm, đạt loại giỏi'.format(TB_diem))\n",
    "    elif TB_diem< 8 and TB_diem>= 6.5:\n",
    "        print('Tổng thang điểm môn Toán: {0} điểm, đạt loại khá'.format(TB_diem))\n",
    "    elif TB_diem< 6.5 and TB_diem>= 5:\n",
    "        print('Tổng thang điểm môn Toán: {0} điểm, đạt loại trung bình'.format(TB_diem))\n",
    "    else:\n",
    "        print('Tổng thang điểm môn Toán: {0} điểm, đạt loại yếu'.format(TB_diem))\n"
   ]
  },
  {
   "cell_type": "code",
   "execution_count": 1,
   "id": "6a814e9e",
   "metadata": {},
   "outputs": [
    {
     "name": "stdout",
     "output_type": "stream",
     "text": [
      "Nhập a: 2\n",
      "Nhập b: 0\n",
      "Nhập c: 4\n",
      "Phương trình bậc 2: 2x^2 +4 = 0\n"
     ]
    }
   ],
   "source": [
    "a= int(input('Nhập a: '))\n",
    "b= int(input('Nhập b: '))\n",
    "c= int(input('Nhập c: '))\n",
    "\n",
    "x2= 'x^2'\n",
    "x= 'x'\n",
    "\n",
    "b= b if b==0 else '+' + str(b) + str(x) if b>0 else str(b) + str(x)\n",
    "c= c if c==0 else '+' + str(c) if c>0 else str(c)\n",
    "\n",
    "if a==0:\n",
    "    print('Dữ liệu đầu vào sai, không tạo thành phương trình bậc 2')\n",
    "else: \n",
    "    a= str(a) + str(x2)\n",
    "    if b==0 and c==0:\n",
    "        print('Phương trình bậc 2: {0} = 0'.format(a))\n",
    "    elif b==0 and c!=0:\n",
    "        print('Phương trình bậc 2: {0} {1} = 0'.format(a, c))\n",
    "    elif b!=0 and c==0:\n",
    "        print('Phương trình bậc 2: {0} {1} = 0'.format(a, b))\n",
    "    else:\n",
    "        print('Phương trình bậc 2: {0} {1} {2} = 0'.format(a, b, c))"
   ]
  },
  {
   "cell_type": "code",
   "execution_count": null,
   "id": "b1e9f86c",
   "metadata": {},
   "outputs": [],
   "source": []
  }
 ],
 "metadata": {
  "kernelspec": {
   "display_name": "Python 3 (ipykernel)",
   "language": "python",
   "name": "python3"
  },
  "language_info": {
   "codemirror_mode": {
    "name": "ipython",
    "version": 3
   },
   "file_extension": ".py",
   "mimetype": "text/x-python",
   "name": "python",
   "nbconvert_exporter": "python",
   "pygments_lexer": "ipython3",
   "version": "3.9.7"
  }
 },
 "nbformat": 4,
 "nbformat_minor": 5
}
