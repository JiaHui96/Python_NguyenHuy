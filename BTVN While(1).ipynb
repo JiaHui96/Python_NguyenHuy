{
 "cells": [
  {
   "cell_type": "code",
   "execution_count": 1,
   "id": "076db961",
   "metadata": {},
   "outputs": [
    {
     "name": "stdout",
     "output_type": "stream",
     "text": [
      "  nguyễN    gia    hUy   \n",
      "Nguyễn Gia Huy "
     ]
    }
   ],
   "source": [
    "name= '  nguyễN    gia    hUy   '\n",
    "print(name)\n",
    "name= name.strip()\n",
    "name= name.lower()\n",
    "name= name.split(' ')\n",
    "for i in name:\n",
    "    if i!='':\n",
    "        i= i[0].upper() + i[1:]\n",
    "        print(i, end= ' ')\n"
   ]
  },
  {
   "cell_type": "code",
   "execution_count": 10,
   "id": "4b7acd0f",
   "metadata": {},
   "outputs": [
    {
     "name": "stdout",
     "output_type": "stream",
     "text": [
      "Nhập code: 4902778120972\n",
      "Mã vạch đúng\n"
     ]
    }
   ],
   "source": [
    "code= input('Nhập code: ')\n",
    "i= 0 \n",
    "A= 0\n",
    "B= 0\n",
    "C= int(code[12])\n",
    "\n",
    "while i<12:\n",
    "    if i%2==0:\n",
    "        A= A + int(code[i]) \n",
    "    else: \n",
    "        B= B + int(code[i])\n",
    "    i= i + 1\n",
    "D= A + 3*B\n",
    "if D%10!=0:\n",
    "    F= 10 - (D%10)\n",
    "else:\n",
    "    F= 0\n",
    "if F==C:\n",
    "    print('Mã vạch đúng')\n",
    "else:\n",
    "    print('Mã vạch sai')\n"
   ]
  },
  {
   "cell_type": "code",
   "execution_count": 5,
   "id": "15ed3ab4",
   "metadata": {},
   "outputs": [
    {
     "name": "stdout",
     "output_type": "stream",
     "text": [
      "6 6\n"
     ]
    }
   ],
   "source": []
  },
  {
   "cell_type": "code",
   "execution_count": null,
   "id": "6d1c0a98",
   "metadata": {},
   "outputs": [],
   "source": []
  }
 ],
 "metadata": {
  "kernelspec": {
   "display_name": "Python 3 (ipykernel)",
   "language": "python",
   "name": "python3"
  },
  "language_info": {
   "codemirror_mode": {
    "name": "ipython",
    "version": 3
   },
   "file_extension": ".py",
   "mimetype": "text/x-python",
   "name": "python",
   "nbconvert_exporter": "python",
   "pygments_lexer": "ipython3",
   "version": "3.9.7"
  }
 },
 "nbformat": 4,
 "nbformat_minor": 5
}
