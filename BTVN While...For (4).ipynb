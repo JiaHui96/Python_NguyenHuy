{
 "cells": [
  {
   "cell_type": "code",
   "execution_count": 1,
   "id": "77c3298d",
   "metadata": {},
   "outputs": [],
   "source": [
    "#Bài 2: Trong các phần mềm quản lý nhân sự, chức năng tìm kiếm thông tin nhân sự thông qua tên \n",
    "#của nhân viên là một chức năng quan trọng của phần mềm. \n",
    "#Chức năng có khả năng tìm kiếm khi người dùng nhập vào tên tiếng Việt có dấu hoặc kể cả không có dấu. \n",
    "#Để làm điều đó, khi nhập vào dữ liệu là tiếng Việt có dấu được chuyển sang dữ liệu tiếng Việt không có dấu. \n",
    "#Viết chương trình chuyển tiếng Việt có dấu sang tiếng Việt không có dấu. \n",
    "#Ví dụ: Nhập vào là \"Nguyễn văn bình\" thì kết quả là \"Nguyen van binh\"."
   ]
  },
  {
   "cell_type": "code",
   "execution_count": 2,
   "id": "57558eb6",
   "metadata": {},
   "outputs": [
    {
     "name": "stdout",
     "output_type": "stream",
     "text": [
      "Nhập họ tên nhân viên: sdsds sadsad asas \n",
      "Sdsds Sadsad Asas "
     ]
    }
   ],
   "source": [
    "fullname = input('Nhập họ tên nhân viên: ')\n",
    "full_name = ''\n",
    "\n",
    "fullname = fullname.strip().lower() \n",
    "\n",
    "for i in fullname: \n",
    "    if i in 'aăâáàạảắằặẳấầậẩãẵẫ':\n",
    "        i = 'a'\n",
    "    elif i in 'eêéèẹẻếềệểẽễ':\n",
    "        i = 'e'\n",
    "    elif i in 'oôơóòọỏốồộổớờợởõỗỡ':\n",
    "        i = 'o'\n",
    "    elif i in 'uưúùụủứừựửũữ': \n",
    "        i = 'u'\n",
    "    elif i in 'iíìịỉĩ':\n",
    "        i = 'i'\n",
    "    full_name += i \n",
    "\n",
    "    \n",
    "full_name = full_name.split(' ')\n",
    "\n",
    "for i in full_name:\n",
    "    if i != '':\n",
    "        chuan = i[0].upper() + i[1:]\n",
    "        print(chuan, end=' ')"
   ]
  },
  {
   "cell_type": "code",
   "execution_count": 3,
   "id": "2c7e89c8",
   "metadata": {},
   "outputs": [
    {
     "name": "stdout",
     "output_type": "stream",
     "text": [
      "Nhập n: 6\n"
     ]
    }
   ],
   "source": [
    "#Bài 1: NHập một số tự nhiên N. Vẽ N hình sao trên turtle.\n",
    "n = int(input('Nhập n: '))\n",
    "\n",
    "import turtle\n",
    "tl = turtle.Turtle()\n",
    "tl.hideturtle()\n",
    "\n",
    "tl.penup()\n",
    "tl.backward(25*(2*n-1))\n",
    "tl.pendown()\n",
    "\n",
    "for i in range(n):\n",
    "    for j in range(5):\n",
    "        tl.forward(50)\n",
    "        tl.right(144)\n",
    "    tl.penup()\n",
    "    tl.forward(100)\n",
    "    tl.pendown()\n",
    "\n",
    "\n",
    "turtle.done()"
   ]
  },
  {
   "cell_type": "code",
   "execution_count": null,
   "id": "f06b4675",
   "metadata": {},
   "outputs": [],
   "source": []
  }
 ],
 "metadata": {
  "kernelspec": {
   "display_name": "Python 3 (ipykernel)",
   "language": "python",
   "name": "python3"
  },
  "language_info": {
   "codemirror_mode": {
    "name": "ipython",
    "version": 3
   },
   "file_extension": ".py",
   "mimetype": "text/x-python",
   "name": "python",
   "nbconvert_exporter": "python",
   "pygments_lexer": "ipython3",
   "version": "3.9.7"
  }
 },
 "nbformat": 4,
 "nbformat_minor": 5
}
