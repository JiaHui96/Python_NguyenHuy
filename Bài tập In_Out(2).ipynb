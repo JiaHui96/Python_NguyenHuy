{
 "cells": [
  {
   "cell_type": "code",
   "execution_count": 3,
   "id": "af09d94a",
   "metadata": {},
   "outputs": [
    {
     "name": "stdout",
     "output_type": "stream",
     "text": [
      "Nhập 1 post bất kì: \n",
      "A row has erupted after the chief of the World Health Organization (WHO) accused Taiwan’s leaders of spearheading personal attacks on him. WHO chief Tedros Adhanom Ghebreyesus said he had been subjected to racist comments and death threats for months. But President Tsai Ing-wen said Taiwan opposed any form of discrimination, and invited Dr Tedros to visit the island.\n",
      "\n",
      "Bài post bị block không? True\n"
     ]
    }
   ],
   "source": [
    "text= input('Nhập 1 post bất kì: \\n')\n",
    "text1= 'sex'\n",
    "text2= 'racist'\n",
    "text3= 'violence'\n",
    "text4= 'child abuse'\n",
    "text5= 'discrimination'\n",
    "\n",
    "count= text.count(text1) or text.count(text2) or text.count(text3) or text.count(text4) or text.count(text5)\n",
    "check= count!=0\n",
    "\n",
    "print('\\nBài post bị block không?', check)"
   ]
  },
  {
   "cell_type": "code",
   "execution_count": null,
   "id": "9d29a5c1",
   "metadata": {},
   "outputs": [],
   "source": []
  }
 ],
 "metadata": {
  "kernelspec": {
   "display_name": "Python 3 (ipykernel)",
   "language": "python",
   "name": "python3"
  },
  "language_info": {
   "codemirror_mode": {
    "name": "ipython",
    "version": 3
   },
   "file_extension": ".py",
   "mimetype": "text/x-python",
   "name": "python",
   "nbconvert_exporter": "python",
   "pygments_lexer": "ipython3",
   "version": "3.9.7"
  }
 },
 "nbformat": 4,
 "nbformat_minor": 5
}
