{
 "cells": [
  {
   "cell_type": "code",
   "execution_count": 2,
   "id": "53d1decf",
   "metadata": {},
   "outputs": [
    {
     "name": "stdout",
     "output_type": "stream",
     "text": [
      "Nhập chuỗi ký tự bất kỳ: abcd\n",
      "Ký tự a là nguyên âm: True\n",
      "Ký tự b là nguyên âm: False\n",
      "Ký tự c là nguyên âm: False\n",
      "Ký tự d là nguyên âm: False\n"
     ]
    }
   ],
   "source": [
    "text= input('Nhập chuỗi ký tự bất kỳ: ')\n",
    "while len(text)==0:\n",
    "    text= input('Yêu cầu nhập ít nhất 1 ký tự: ')\n",
    "i= 0 \n",
    "a= len(text)\n",
    "while i< a:\n",
    "    Kytu= text[i]\n",
    "    print('Ký tự', text[i], 'là','nguyên âm:',Kytu in ('o','e','a','u','i','O','E','A','U','I'))\n",
    "    i= i+1"
   ]
  },
  {
   "cell_type": "code",
   "execution_count": 5,
   "id": "90a1cdc6",
   "metadata": {
    "scrolled": true
   },
   "outputs": [
    {
     "name": "stdout",
     "output_type": "stream",
     "text": [
      "Nhập 1 ký tự bất kỳ: a\n",
      "a là nguyên âm:  True\n"
     ]
    }
   ],
   "source": [
    "text= input('Nhập 1 ký tự bất kỳ: ')\n",
    "while len(text)==0 or len(text)>1:\n",
    "    text= input('Yêu cầu nhập đúng 1 ký tự: ')\n",
    "print ('{0} là nguyên âm: '.format(text), text in ('o','e','a','u','i','O','E','A','U','I'))"
   ]
  },
  {
   "cell_type": "code",
   "execution_count": 6,
   "id": "aa9fe9b2",
   "metadata": {},
   "outputs": [
    {
     "name": "stdout",
     "output_type": "stream",
     "text": [
      "Nhập chuỗi ký tự: á\n",
      "False\n"
     ]
    }
   ],
   "source": [
    "# Bài chữa \n",
    "text= input('Nhập chuỗi ký tự: ')\n",
    "#oeaui\n",
    "is_a= ('a' in text) or ('A' in text)\n",
    "is_o= ('o' in text) or ('O' in text)\n",
    "is_e= ('e' in text) or ('E' in text)\n",
    "is_u= ('u' in text) or ('U' in text)\n",
    "is_i= ('i' in text) or ('I' in text)\n",
    "print(is_a or is_o or is_e or is_u or is_i)\n"
   ]
  },
  {
   "cell_type": "code",
   "execution_count": null,
   "id": "d58f97f5",
   "metadata": {},
   "outputs": [],
   "source": []
  },
  {
   "cell_type": "code",
   "execution_count": null,
   "id": "c92ebb3c",
   "metadata": {},
   "outputs": [],
   "source": []
  }
 ],
 "metadata": {
  "kernelspec": {
   "display_name": "Python 3 (ipykernel)",
   "language": "python",
   "name": "python3"
  },
  "language_info": {
   "codemirror_mode": {
    "name": "ipython",
    "version": 3
   },
   "file_extension": ".py",
   "mimetype": "text/x-python",
   "name": "python",
   "nbconvert_exporter": "python",
   "pygments_lexer": "ipython3",
   "version": "3.9.7"
  }
 },
 "nbformat": 4,
 "nbformat_minor": 5
}
