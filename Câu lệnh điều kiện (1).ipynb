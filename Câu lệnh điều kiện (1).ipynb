{
 "cells": [
  {
   "cell_type": "code",
   "execution_count": 1,
   "id": "67f906da",
   "metadata": {},
   "outputs": [
    {
     "name": "stdout",
     "output_type": "stream",
     "text": [
      "Số lẻ\n",
      "Kết thúc chương trình\n",
      "1\n"
     ]
    }
   ],
   "source": [
    "number= 11\n",
    "\n",
    "if number%2==0: #[%] chia lấy số dư\n",
    "    print('Số chẵn')\n",
    "else:\n",
    "    print('Số lẻ')\n",
    "    \n",
    "print('Kết thúc chương trình')\n",
    "print(number%2)"
   ]
  },
  {
   "cell_type": "code",
   "execution_count": 12,
   "id": "792b12b2",
   "metadata": {},
   "outputs": [
    {
     "name": "stdout",
     "output_type": "stream",
     "text": [
      "2\n",
      "4\n",
      "6\n",
      "3 số 2, 4, 6 tạo thành cấp số cộng.\n",
      "3 số 2, 4, 6 là số chẵn và tạo thành cấp số cộng.\n",
      "3 số chẵn nhỏ hơn 10 tạo thành cấp số cộng\n"
     ]
    }
   ],
   "source": [
    "#Bài tập \n",
    "a= int(input())\n",
    "b= int(input())\n",
    "c= int(input())\n",
    "\n",
    "if a+c==2*b or a+b==2*c or b+c==2*a:\n",
    "    print('3 số {0}, {1}, {2} tạo thành cấp số cộng.'.format(a, b,c))\n",
    "    if a%2==0 and b%2==0 and c%2==0:\n",
    "        print('3 số {0}, {1}, {2} là số chẵn và tạo thành cấp số cộng.'.format(a, b,c))\n",
    "        if a<10 and b<10 and c<10:\n",
    "            print('3 số chẵn nhỏ hơn 10 tạo thành cấp số cộng')\n",
    "        else:\n",
    "            print('Có ít nhất 1 số lớn hơn 10')\n",
    "    else:\n",
    "        print('3 số {0}, {1}, {2} có ít nhất 1 số lẻ.'.format(a, b,c))         \n",
    "else:\n",
    "     print('3 số {0}, {1}, {2} không tạo thành cấp số cộng.'.format(a, b,c))\n",
    "    \n"
   ]
  },
  {
   "cell_type": "code",
   "execution_count": null,
   "id": "7abef087",
   "metadata": {},
   "outputs": [],
   "source": [
    "number= 10 \n",
    "print(type(number))"
   ]
  },
  {
   "cell_type": "code",
   "execution_count": 14,
   "id": "7ea49106",
   "metadata": {},
   "outputs": [
    {
     "name": "stdout",
     "output_type": "stream",
     "text": [
      "2\n",
      "Số hai\n"
     ]
    }
   ],
   "source": [
    "#Diễn giải theo if...else\n",
    "number= int(input())\n",
    "\n",
    "if number==1:\n",
    "    print('Số một')\n",
    "else:\n",
    "    if number==2:\n",
    "        print('Số hai')\n",
    "    else:\n",
    "        if number==3:\n",
    "            print('Số ba')\n",
    "        else:\n",
    "            print('Khống phải 1, 2, 3')\n",
    "            "
   ]
  },
  {
   "cell_type": "code",
   "execution_count": 16,
   "id": "c685aa74",
   "metadata": {},
   "outputs": [
    {
     "name": "stdout",
     "output_type": "stream",
     "text": [
      "4\n",
      "Không phải 1, 2, 3\n"
     ]
    }
   ],
   "source": [
    "#Diễn giải theo if... elif [Câu lệnh if bậc thang]\n",
    "number= int(input())\n",
    "\n",
    "if number==1:\n",
    "    print('Số một')\n",
    "elif number==2:\n",
    "    print('Số hai')\n",
    "elif number==3:\n",
    "    print('Số ba')\n",
    "else:\n",
    "    print('Không phải 1, 2, 3')\n",
    "    "
   ]
  },
  {
   "cell_type": "code",
   "execution_count": 17,
   "id": "5bd8fd21",
   "metadata": {},
   "outputs": [
    {
     "name": "stdout",
     "output_type": "stream",
     "text": [
      "1\n",
      "2\n",
      "max= 2\n"
     ]
    }
   ],
   "source": [
    "#Cách thông thường\n",
    "number1= int(input())\n",
    "number2= int(input())\n",
    "\n",
    "if number1>= number2:\n",
    "    maxium= number1\n",
    "else:\n",
    "    maxium= number2\n",
    "\n",
    "print('max=', maxium)"
   ]
  },
  {
   "cell_type": "code",
   "execution_count": 21,
   "id": "3fa7d87c",
   "metadata": {},
   "outputs": [
    {
     "name": "stdout",
     "output_type": "stream",
     "text": [
      "1\n",
      "2\n",
      "2\n"
     ]
    }
   ],
   "source": [
    "#Toán tử 3 ngôi\n",
    "number1= int(input())\n",
    "number2= int(input())\n",
    "\n",
    "maxium= mumber1 if number1>= number else number2\n",
    "print(maxium)"
   ]
  },
  {
   "cell_type": "code",
   "execution_count": null,
   "id": "bf9d8c9b",
   "metadata": {},
   "outputs": [],
   "source": []
  }
 ],
 "metadata": {
  "kernelspec": {
   "display_name": "Python 3 (ipykernel)",
   "language": "python",
   "name": "python3"
  },
  "language_info": {
   "codemirror_mode": {
    "name": "ipython",
    "version": 3
   },
   "file_extension": ".py",
   "mimetype": "text/x-python",
   "name": "python",
   "nbconvert_exporter": "python",
   "pygments_lexer": "ipython3",
   "version": "3.9.7"
  }
 },
 "nbformat": 4,
 "nbformat_minor": 5
}
