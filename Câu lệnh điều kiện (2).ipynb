{
 "cells": [
  {
   "cell_type": "code",
   "execution_count": 1,
   "id": "e5547560",
   "metadata": {},
   "outputs": [
    {
     "name": "stdout",
     "output_type": "stream",
     "text": [
      "Nhập năm: 1\n",
      "Nhập tháng: 2\n",
      "Tháng 2, năm 1 có 28 ngày\n"
     ]
    }
   ],
   "source": [
    "nam= int(input('Nhập năm: '))\n",
    "thang= int(input('Nhập tháng: '))\n",
    "\n",
    "if nam<=0 or thang<=0 or thang>12:\n",
    "    print('Dữ liệu đầu vào sai')\n",
    "else: \n",
    "    if thang==1 or thang== 3 or thang== 5 or thang== 7 or thang== 8 or thang== 10 or thang== 12:\n",
    "        print('Tháng {0}, năm {1} có 31 ngày'.format(thang, nam))\n",
    "    elif thang==2:\n",
    "        if nam%4==0:\n",
    "            print('Tháng {0}, năm {1} có 29 ngày'.format(thang, nam))\n",
    "        else:\n",
    "            print('Tháng {0}, năm {1} có 28 ngày'.format(thang, nam))\n",
    "    else: \n",
    "        print('Tháng {0}, năm {1} có 30 ngày'.format(thang, nam))"
   ]
  },
  {
   "cell_type": "code",
   "execution_count": 2,
   "id": "fa86f59d",
   "metadata": {},
   "outputs": [
    {
     "name": "stdout",
     "output_type": "stream",
     "text": [
      "Nhập a: 3\n",
      "Nhập b: 4\n",
      "Nhập c: \n"
     ]
    },
    {
     "ename": "ValueError",
     "evalue": "invalid literal for int() with base 10: ''",
     "output_type": "error",
     "traceback": [
      "\u001b[1;31m---------------------------------------------------------------------------\u001b[0m",
      "\u001b[1;31mValueError\u001b[0m                                Traceback (most recent call last)",
      "\u001b[1;32m~\\AppData\\Local\\Temp/ipykernel_5876/331854786.py\u001b[0m in \u001b[0;36m<module>\u001b[1;34m\u001b[0m\n\u001b[0;32m      1\u001b[0m \u001b[0ma\u001b[0m\u001b[1;33m=\u001b[0m \u001b[0mint\u001b[0m\u001b[1;33m(\u001b[0m\u001b[0minput\u001b[0m\u001b[1;33m(\u001b[0m\u001b[1;34m'Nhập a: '\u001b[0m\u001b[1;33m)\u001b[0m\u001b[1;33m)\u001b[0m\u001b[1;33m\u001b[0m\u001b[1;33m\u001b[0m\u001b[0m\n\u001b[0;32m      2\u001b[0m \u001b[0mb\u001b[0m\u001b[1;33m=\u001b[0m \u001b[0mint\u001b[0m\u001b[1;33m(\u001b[0m\u001b[0minput\u001b[0m\u001b[1;33m(\u001b[0m\u001b[1;34m'Nhập b: '\u001b[0m\u001b[1;33m)\u001b[0m\u001b[1;33m)\u001b[0m\u001b[1;33m\u001b[0m\u001b[1;33m\u001b[0m\u001b[0m\n\u001b[1;32m----> 3\u001b[1;33m \u001b[0mc\u001b[0m\u001b[1;33m=\u001b[0m \u001b[0mint\u001b[0m\u001b[1;33m(\u001b[0m\u001b[0minput\u001b[0m\u001b[1;33m(\u001b[0m\u001b[1;34m'Nhập c: '\u001b[0m\u001b[1;33m)\u001b[0m\u001b[1;33m)\u001b[0m\u001b[1;33m\u001b[0m\u001b[1;33m\u001b[0m\u001b[0m\n\u001b[0m\u001b[0;32m      4\u001b[0m \u001b[1;33m\u001b[0m\u001b[0m\n\u001b[0;32m      5\u001b[0m \u001b[1;32mif\u001b[0m \u001b[0ma\u001b[0m\u001b[1;33m>\u001b[0m\u001b[0mb\u001b[0m \u001b[1;32mand\u001b[0m \u001b[0ma\u001b[0m\u001b[1;33m>\u001b[0m\u001b[0mc\u001b[0m \u001b[1;32mand\u001b[0m \u001b[0mb\u001b[0m\u001b[1;33m>\u001b[0m\u001b[0mc\u001b[0m\u001b[1;33m:\u001b[0m\u001b[1;33m\u001b[0m\u001b[1;33m\u001b[0m\u001b[0m\n",
      "\u001b[1;31mValueError\u001b[0m: invalid literal for int() with base 10: ''"
     ]
    }
   ],
   "source": [
    "a= int(input('Nhập a: '))\n",
    "b= int(input('Nhập b: '))\n",
    "c= int(input('Nhập c: '))\n",
    "\n",
    "if a>b and a>c and b>c:\n",
    "    maxvalue= a\n",
    "    minvalue= c\n",
    "elif a>b and a>c and c>b:\n",
    "    maxvalue= a\n",
    "    minvalue= b\n",
    "elif b>a and b>c and c>a:\n",
    "    maxvalue= b\n",
    "    minvalue= a\n",
    "elif b>a and b>c and a>c:\n",
    "    maxvalue= b\n",
    "    minvalue= c\n",
    "elif c>a and c>b and a>b:\n",
    "    maxvalue= c\n",
    "    minvalue= b\n",
    "elif c>a and c>b and b>a:\n",
    "    maxvalue= c\n",
    "    minvalue= a\n",
    "print('3 sô tự nhiên: có số lớn nhất là {0} và số nhỏ nhất là {1}'.format(maxvalue, minvalue))\n"
   ]
  },
  {
   "cell_type": "code",
   "execution_count": null,
   "id": "3b0ddc8f",
   "metadata": {},
   "outputs": [],
   "source": [
    "a= int(input('Nhập a: '))\n",
    "b= int(input('Nhập b: '))\n",
    "c= int(input('Nhập c: '))\n",
    "\n",
    "maxvalue= a\n",
    "minvalue= a\n",
    "\n",
    "if b>a:\n",
    "    maxvalue= b\n",
    "elif c>a:\n",
    "    maxvalue= c\n",
    "else: \n",
    "    maxvalue= a\n",
    "print('3 sô tự nhiên: có số lớn nhất là {0}'.format(maxvalue))\n",
    "\n",
    "if b<a:\n",
    "    minvalue= b\n",
    "elif c<a:\n",
    "    minvalue= c\n",
    "else: \n",
    "    minvalue= a\n",
    "print('3 sô tự nhiên: có số lớn nhất là {0}'.format(minvalue))\n"
   ]
  },
  {
   "cell_type": "code",
   "execution_count": 5,
   "id": "6d919be4",
   "metadata": {},
   "outputs": [
    {
     "name": "stdout",
     "output_type": "stream",
     "text": [
      "Nhập a: 1\n",
      "Nhập b: 2\n",
      "Nhập c: 3\n",
      "3 sô tự nhiên 1, 2, 3: có số lớn nhất là 3\n",
      "3\n",
      "1\n"
     ]
    }
   ],
   "source": [
    "#Chữa bài \n",
    "a= int(input('Nhập a: '))\n",
    "b= int(input('Nhập b: '))\n",
    "c= int(input('Nhập c: '))\n",
    "\n",
    "if a>= b: \n",
    "    if a>= c:\n",
    "        maximum= a\n",
    "    else:\n",
    "        maximum= c \n",
    "else:\n",
    "    if b>= c:\n",
    "        maximum= b\n",
    "    else:\n",
    "        maximum= c\n",
    "print('3 sô tự nhiên {0}, {1}, {2}: có số lớn nhất là {3}'.format(a, b, c, maximum))\n",
    "\n",
    "#Cách khác 3 ngôi: \n",
    "maximum= a if a>=b and a>=c else b if b>=c else c \n",
    "print(maximum)\n",
    "\n",
    "_min= a if a<=b and a<=c else b if b<= c else c \n",
    "print(_min)\n"
   ]
  },
  {
   "cell_type": "code",
   "execution_count": null,
   "id": "9eefd771",
   "metadata": {},
   "outputs": [],
   "source": [
    "number= input('Nhập e số: ').strip()\n",
    "\n",
    "a= number.split(' ')[0]\n",
    "b= number.split(' ')[1]\n",
    "c= number.split(' ')[2]\n",
    "\n",
    "if a.isdigit()== True and b.isdigit()== True and c.isdigit()== True:\n",
    "    a= float(a)\n",
    "    b= float(b)\n",
    "    c= float(c)\n",
    "    maximum= a if a>=b and a>=c else b if b>=c else c \n",
    "    print(maximum)\n",
    "    \n",
    "    _min= a if a<=b and a<=c else b if b<= c else c \n",
    "    print(_min)\n",
    "else: \n",
    "    print('Error!')"
   ]
  },
  {
   "cell_type": "code",
   "execution_count": null,
   "id": "43be66f2",
   "metadata": {},
   "outputs": [],
   "source": []
  }
 ],
 "metadata": {
  "kernelspec": {
   "display_name": "Python 3 (ipykernel)",
   "language": "python",
   "name": "python3"
  },
  "language_info": {
   "codemirror_mode": {
    "name": "ipython",
    "version": 3
   },
   "file_extension": ".py",
   "mimetype": "text/x-python",
   "name": "python",
   "nbconvert_exporter": "python",
   "pygments_lexer": "ipython3",
   "version": "3.9.7"
  }
 },
 "nbformat": 4,
 "nbformat_minor": 5
}
