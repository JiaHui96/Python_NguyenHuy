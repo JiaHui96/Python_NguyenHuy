{
 "cells": [
  {
   "cell_type": "code",
   "execution_count": 1,
   "id": "6231a42d",
   "metadata": {},
   "outputs": [],
   "source": [
    "#Mục tiêu \n",
    "# Trình bày được cú pháp khai báo hàm\n",
    "# Cú pháp gọi hàm\n",
    "# Gthich tham số của hàm \n",
    "# Thành phần của hàm: Nhiệm vụ của hàm, Tên hàm, Đầu vào của hàm, Đầu ra của hàm \n",
    "# VD: def sum(a , b): return a + b. Nhiệm vụ: tính tổng của hàm, đầu vào a, b, đầu ra tổng hàm \n"
   ]
  },
  {
   "cell_type": "code",
   "execution_count": 3,
   "id": "7c49f787",
   "metadata": {},
   "outputs": [
    {
     "name": "stdout",
     "output_type": "stream",
     "text": [
      "1 8 27 64 125 216 343 512 729 1000 "
     ]
    }
   ],
   "source": [
    "def lp(a):\n",
    "    return a*a*a\n",
    "\n",
    "for i in range(1,11):\n",
    "    print(lp(i), end= ' ')"
   ]
  },
  {
   "cell_type": "code",
   "execution_count": 4,
   "id": "135741ed",
   "metadata": {},
   "outputs": [],
   "source": [
    "#Cú pháp hàm: \n",
    "# def Ten_ham(<Tham số, có thể có nhiều tham số>): \n",
    "    #Phần thân hàm (các lệnh thực thi hàm)"
   ]
  },
  {
   "cell_type": "code",
   "execution_count": 18,
   "id": "fe5f0a1c",
   "metadata": {
    "scrolled": true
   },
   "outputs": [
    {
     "name": "stdout",
     "output_type": "stream",
     "text": [
      "Nhập số tự nhiên : 2\n"
     ]
    },
    {
     "data": {
      "text/plain": [
       "(3, -1)"
      ]
     },
     "execution_count": 18,
     "metadata": {},
     "output_type": "execute_result"
    }
   ],
   "source": [
    "def giaithua(number):\n",
    "    '''Hàm tính giai thừa của 1 số tự nhiên'''\n",
    "    if number==0:\n",
    "        return 1\n",
    "    else:\n",
    "        gt = 1 \n",
    "        for i in range(1, number +1):\n",
    "            gt = gt*i\n",
    "        return gt \n",
    "\n",
    "a = int(input('Nhập số tự nhiên : '))\n",
    "giaithua(a)\n",
    "#print(result)\n",
    "#print(giaithua.__doc__)\n",
    "\n",
    "def max_min(a, b, c=10): \n",
    "    max = a if a>b and a>c else b if b>c else c\n",
    "    min = a if a<b and a<c else b if b<c else c \n",
    "    return max, min\n",
    "\n",
    "max_min(-1, 2, 3)"
   ]
  },
  {
   "cell_type": "code",
   "execution_count": 39,
   "id": "c4015c74",
   "metadata": {},
   "outputs": [
    {
     "name": "stdout",
     "output_type": "stream",
     "text": [
      "Nhập số: 4\n",
      "Số 1 không phải là số nguyên tố\n",
      "3\n",
      "Số 2 không phải là số nguyên tố\n",
      "3\n",
      "Số 3 không phải là số nguyên tố\n",
      "3\n",
      "Số 4 không phải là số nguyên tố\n",
      "3\n"
     ]
    }
   ],
   "source": [
    "\n",
    "def nguyen_to(number):\n",
    "    if number==0:\n",
    "        return number\n",
    "    else:\n",
    "        count = 0\n",
    "        for i in range(1, number + 1):\n",
    "            if number%i==0:\n",
    "                count += 1\n",
    "        return count\n",
    "a = int(input('Nhập số: '))\n",
    "#print(nguyen_to(a))\n",
    "for i in range(1, a + 1):\n",
    "    if nguyen_to(a)==2:\n",
    "        print('Số {0} là số nguyên tố'.format(i))\n",
    "        print(nguyen_to(a))\n",
    "    else:\n",
    "        print('Số {0} không phải là số nguyên tố'.format(i))\n",
    "        print(nguyen_to(a))\n",
    "    "
   ]
  },
  {
   "cell_type": "code",
   "execution_count": 45,
   "id": "95877473",
   "metadata": {},
   "outputs": [
    {
     "name": "stdout",
     "output_type": "stream",
     "text": [
      "Nhập số tự nhiên: 9\n",
      "2 3 5 7 "
     ]
    }
   ],
   "source": [
    "#Chữa bài\n",
    "def simple(number):\n",
    "    '''Kiểm tra 1 số tự nhiên có phải số nguyên tố không'''\n",
    "    answer = True\n",
    "    for i in range(2, (number//2+1)):\n",
    "        if number%i==0:\n",
    "            answer = False\n",
    "            break\n",
    "    return answer\n",
    "n = int(input('Nhập số tự nhiên: '))\n",
    "for i in range(2, n+1):\n",
    "    if simple(i):\n",
    "        print(i, end= ' ')"
   ]
  },
  {
   "cell_type": "code",
   "execution_count": null,
   "id": "0b0206fb",
   "metadata": {},
   "outputs": [],
   "source": []
  }
 ],
 "metadata": {
  "kernelspec": {
   "display_name": "Python 3 (ipykernel)",
   "language": "python",
   "name": "python3"
  },
  "language_info": {
   "codemirror_mode": {
    "name": "ipython",
    "version": 3
   },
   "file_extension": ".py",
   "mimetype": "text/x-python",
   "name": "python",
   "nbconvert_exporter": "python",
   "pygments_lexer": "ipython3",
   "version": "3.9.7"
  }
 },
 "nbformat": 4,
 "nbformat_minor": 5
}
