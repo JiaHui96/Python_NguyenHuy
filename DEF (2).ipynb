{
 "cells": [
  {
   "cell_type": "code",
   "execution_count": 22,
   "id": "ede1cac9",
   "metadata": {},
   "outputs": [
    {
     "name": "stdout",
     "output_type": "stream",
     "text": [
      "Không chứa nguyên âm\n"
     ]
    }
   ],
   "source": [
    "def nguyen_am(text):\n",
    "    '''Kiểm tra ký tự nguyên âm'''\n",
    "    text = text.lower()\n",
    "    for i in text:\n",
    "        if i in 'oeaui':\n",
    "            return False\n",
    "    return True\n",
    "\n",
    "a = 'bfgdkfg'\n",
    "if nguyen_am(a):\n",
    "    print('Không chứa nguyên âm')\n",
    "else:\n",
    "    print('Chứa nguyên âm')"
   ]
  },
  {
   "cell_type": "code",
   "execution_count": 18,
   "id": "21ce0a1f",
   "metadata": {},
   "outputs": [
    {
     "name": "stdout",
     "output_type": "stream",
     "text": [
      "Nhập họ tên: Nguyễn Gia HUy\n",
      "Nguyen Gia Huy  "
     ]
    }
   ],
   "source": [
    "def full_name(name):\n",
    "    '''Chuyển đổi họ tên dạng có dấu thành không dấu'''\n",
    "    name = name.strip().lower()\n",
    "    text = ''\n",
    "    fullname = ''\n",
    "    for i in name:\n",
    "        if i in 'aăâáàạảắằặẳấầậẩãẵẫ':\n",
    "            i = 'a'\n",
    "        elif i in 'eêéèẹẻếềệểẽễ':\n",
    "            i = 'e'\n",
    "        elif i in 'oôơóòọỏốồộổớờợởõỗỡ':\n",
    "            i = 'o'\n",
    "        elif i in 'uưúùụủứừựửũữ': \n",
    "            i = 'u'\n",
    "        elif i in 'iíìịỉĩ':\n",
    "            i = 'i'\n",
    "        text += i \n",
    "    text = text.split(' ')\n",
    "    for i in text:\n",
    "        if i != '':\n",
    "            chuan = i[0].upper() + i[1:]\n",
    "            fullname += chuan + ' '\n",
    "    return fullname\n",
    "\n",
    "name = input('Nhập họ tên: ')\n",
    "print(full_name(name), end= ' ')\n"
   ]
  },
  {
   "cell_type": "code",
   "execution_count": 9,
   "id": "efc0e791",
   "metadata": {},
   "outputs": [
    {
     "name": "stdout",
     "output_type": "stream",
     "text": [
      "True\n"
     ]
    }
   ],
   "source": [
    "def isSimple(num):\n",
    "    for i in range(2, num//2+1):\n",
    "        if num%i==0:\n",
    "            return False\n",
    "    return True\n",
    "\n",
    "print(isSimple(7))"
   ]
  },
  {
   "cell_type": "code",
   "execution_count": 1,
   "id": "f9f83aa2",
   "metadata": {},
   "outputs": [
    {
     "name": "stdout",
     "output_type": "stream",
     "text": [
      "a\n"
     ]
    }
   ],
   "source": [
    "a= 'abc'\n",
    "print(a[0])"
   ]
  },
  {
   "cell_type": "code",
   "execution_count": null,
   "id": "697b38ae",
   "metadata": {},
   "outputs": [],
   "source": []
  }
 ],
 "metadata": {
  "kernelspec": {
   "display_name": "Python 3 (ipykernel)",
   "language": "python",
   "name": "python3"
  },
  "language_info": {
   "codemirror_mode": {
    "name": "ipython",
    "version": 3
   },
   "file_extension": ".py",
   "mimetype": "text/x-python",
   "name": "python",
   "nbconvert_exporter": "python",
   "pygments_lexer": "ipython3",
   "version": "3.9.7"
  }
 },
 "nbformat": 4,
 "nbformat_minor": 5
}
