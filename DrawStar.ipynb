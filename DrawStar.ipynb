{
 "cells": [
  {
   "cell_type": "code",
   "execution_count": null,
   "id": "fff52329",
   "metadata": {},
   "outputs": [],
   "source": [
    "import turtle\n",
    "\n",
    "tl= turtle.Turtle()\n",
    "tl.pencolor('red')\n",
    "tl.fillcolor('yellow')\n",
    "\n",
    "tl.begin_fill()\n",
    "tl.left(72)\n",
    "tl.forward(200)\n",
    "tl.right(144)\n",
    "tl.forward(200)\n",
    "tl.right(144)\n",
    "tl.forward(200)\n",
    "tl.right(144)\n",
    "tl.forward(200)\n",
    "tl.right(144)\n",
    "tl.forward(200)\n",
    "tl.end_fill()\n",
    "\n",
    "turtle.done()"
   ]
  }
 ],
 "metadata": {
  "kernelspec": {
   "display_name": "Python 3 (ipykernel)",
   "language": "python",
   "name": "python3"
  },
  "language_info": {
   "codemirror_mode": {
    "name": "ipython",
    "version": 3
   },
   "file_extension": ".py",
   "mimetype": "text/x-python",
   "name": "python",
   "nbconvert_exporter": "python",
   "pygments_lexer": "ipython3",
   "version": "3.9.7"
  }
 },
 "nbformat": 4,
 "nbformat_minor": 5
}
