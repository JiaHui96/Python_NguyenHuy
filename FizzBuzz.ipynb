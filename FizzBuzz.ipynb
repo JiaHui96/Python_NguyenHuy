{
 "cells": [
  {
   "cell_type": "code",
   "execution_count": null,
   "id": "b9f96c68",
   "metadata": {},
   "outputs": [],
   "source": [
    "number = input('Nhập số có 2 chữ số: ')\n",
    "dau = int(number.split(' ')[0])\n",
    "cuoi = int(number.split(' ')[1])\n",
    "\n",
    "if cuoi < dau: \n",
    "    print('Cần số kết thúc lớn hơn số đầu')\n",
    "else: \n",
    "    cuoi += 1 \n",
    "    for i in range(dau, cuoi):\n",
    "        if i%3==0 and i%5==0:\n",
    "            print('Giá trị biến lặp i = {0}, FizzBuzz'.format(i))\n",
    "        elif i%3==0:\n",
    "            print('Giá trị biến lặp i = {0}, Fizz'.format(i))\n",
    "        elif i%5==0:\n",
    "            print('Giá trị biến lặp i = {0}, Buzz'.format(i))\n",
    "        else:\n",
    "            print('Giá trị biến lặp i = {0}'.format(i))"
   ]
  },
  {
   "cell_type": "code",
   "execution_count": null,
   "id": "08e74cb4",
   "metadata": {},
   "outputs": [],
   "source": [
    "for num in range(10, 14):\n",
    "    for i in range(2, num):\n",
    "        if num%i == 1:\n",
    "            print(num, i)"
   ]
  },
  {
   "cell_type": "code",
   "execution_count": null,
   "id": "b15b31ae",
   "metadata": {},
   "outputs": [],
   "source": []
  }
 ],
 "metadata": {
  "kernelspec": {
   "display_name": "Python 3 (ipykernel)",
   "language": "python",
   "name": "python3"
  },
  "language_info": {
   "codemirror_mode": {
    "name": "ipython",
    "version": 3
   },
   "file_extension": ".py",
   "mimetype": "text/x-python",
   "name": "python",
   "nbconvert_exporter": "python",
   "pygments_lexer": "ipython3",
   "version": "3.9.7"
  }
 },
 "nbformat": 4,
 "nbformat_minor": 5
}
