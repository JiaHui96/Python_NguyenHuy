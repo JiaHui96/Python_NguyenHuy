{
 "cells": [
  {
   "cell_type": "code",
   "execution_count": 4,
   "id": "dd257d08",
   "metadata": {},
   "outputs": [
    {
     "name": "stdout",
     "output_type": "stream",
     "text": [
      "Hình hộp chữ nhật chứa tối đa: 20029 hình lập phương\n"
     ]
    }
   ],
   "source": [
    "# Hình hộp chữ nhật có 3 cạnh: \n",
    "x= 111\n",
    "y= 87\n",
    "z= 56\n",
    "# Hình lập phương có cạnh: \n",
    "a= 3\n",
    "The_tich_hcn= x*y*z\n",
    "The_tich_hlp= a*a*a\n",
    "k= int(The_tich_hcn/The_tich_hlp)\n",
    "print('Hình hộp chữ nhật chứa tối đa:', k,'hình lập phương')"
   ]
  },
  {
   "cell_type": "code",
   "execution_count": null,
   "id": "6ef945dd",
   "metadata": {},
   "outputs": [],
   "source": []
  }
 ],
 "metadata": {
  "kernelspec": {
   "display_name": "Python 3 (ipykernel)",
   "language": "python",
   "name": "python3"
  },
  "language_info": {
   "codemirror_mode": {
    "name": "ipython",
    "version": 3
   },
   "file_extension": ".py",
   "mimetype": "text/x-python",
   "name": "python",
   "nbconvert_exporter": "python",
   "pygments_lexer": "ipython3",
   "version": "3.9.7"
  }
 },
 "nbformat": 4,
 "nbformat_minor": 5
}
