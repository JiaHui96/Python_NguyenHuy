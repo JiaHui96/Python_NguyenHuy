{
 "cells": [
  {
   "cell_type": "code",
   "execution_count": 5,
   "id": "ebb96783",
   "metadata": {},
   "outputs": [
    {
     "name": "stdout",
     "output_type": "stream",
     "text": [
      "Hello Python!\n",
      "Hello Python!\n",
      "Hello \n",
      "Python!\n",
      "Hello \n",
      "Python!\n",
      "Hello Python!Hello Python!\n",
      "Hello Python!Hello Python!Hello Python!\n"
     ]
    }
   ],
   "source": [
    "text1= 'Hello Python!'\n",
    "text2= \"Hello Python!\"\n",
    "text3 = '''Hello \n",
    "Python!'''\n",
    "text4= \"\"\"Hello \n",
    "Python!\"\"\" #3 dấu có thể xuống dòng\n",
    "print(text1)\n",
    "print(text2)\n",
    "print(text3)\n",
    "print(text4)\n",
    "print(text1 + text2)\n",
    "print(text1*3)"
   ]
  },
  {
   "cell_type": "code",
   "execution_count": 2,
   "id": "c43546b2",
   "metadata": {},
   "outputs": [
    {
     "name": "stdout",
     "output_type": "stream",
     "text": [
      "h\n",
      "!\n",
      "Py\n",
      "th\n"
     ]
    }
   ],
   "source": [
    "text= 'Python!' \n",
    "print(text[3]) #In ra ký tự thứ 3 của text đếm từ 0\n",
    "print(text[len(text)-1]) #In ra ký tự cuối cùng của text (Hoặc ngắn gọn print(text[-1]))\n",
    "print(text[0:2]) #Bắt đầu từ ký tự 0 đến ký tự 1 \n",
    "print(text [2:4]) #Bắt đầu từ ký tự 2 đến ký tự 3"
   ]
  },
  {
   "cell_type": "code",
   "execution_count": null,
   "id": "06337a32",
   "metadata": {},
   "outputs": [],
   "source": []
  }
 ],
 "metadata": {
  "kernelspec": {
   "display_name": "Python 3 (ipykernel)",
   "language": "python",
   "name": "python3"
  },
  "language_info": {
   "codemirror_mode": {
    "name": "ipython",
    "version": 3
   },
   "file_extension": ".py",
   "mimetype": "text/x-python",
   "name": "python",
   "nbconvert_exporter": "python",
   "pygments_lexer": "ipython3",
   "version": "3.9.7"
  }
 },
 "nbformat": 4,
 "nbformat_minor": 5
}
