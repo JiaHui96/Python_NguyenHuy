{
 "cells": [
  {
   "cell_type": "code",
   "execution_count": 16,
   "id": "c65551b0",
   "metadata": {},
   "outputs": [
    {
     "name": "stdout",
     "output_type": "stream",
     "text": [
      "Độ dài chuỗi ban đầu: 19\n",
      "2\n",
      "Chữ thường    hello python   !\n",
      "Chữ hoa    HELLO PYTHON   !\n",
      "Hello Python   ! Độ dài sau khi xóa bên trái: 16\n",
      "   Hello Python   ! Độ dài sau khi xóa bên phải: 19\n",
      "Hello Python   ! Độ dài sau khi xóa đầu và cuối: 16\n",
      "['Hello', 'Python!']\n",
      "Lấy chữ thứ nhất: Hello\n",
      "Lấy chữ thứ hai: Python!\n"
     ]
    }
   ],
   "source": [
    "text= '   Hello Python   !'\n",
    "text1= 'Hello Python!'\n",
    "#len - trả về độ dài chuỗi/ số ký tự trong chuỗi\n",
    "print('Độ dài chuỗi ban đầu:',len(text))\n",
    "\n",
    "#count - trả về số lần xuất hiện của chuỗi con\n",
    "# Cấu trúc count: [Chuỗi_to].count('[Chuỗi_nhỏ]', Start{Bắt đầu từ ký tự bao nhiêu trong chuỗi to}, End{Kết thúc ký tự bao nhiêu trong chuỗi to})\n",
    "print(text.count('o',6,-1)) \n",
    "\n",
    "#lower, upper - Biến đổi thành toàn bộ chữ in thường/ chữ in hoa\n",
    "print('Chữ thường', text.lower())\n",
    "print('Chữ hoa', text.upper())\n",
    "\n",
    "#lstrip - Xóa toàn bộ ký tự trắng bên trái chuỗi\n",
    "print(text.lstrip(), 'Độ dài sau khi xóa bên trái:', len(text.lstrip()))\n",
    "\n",
    "#rstrip - Xóa toàn bộ ký tự trăng bên phải\n",
    "print(text.rstrip(), 'Độ dài sau khi xóa bên phải:', len(text.rstrip()))\n",
    "\n",
    "#strip - Xóa toàn bộ ký tự trắng ở đầu và cuối\n",
    "print(text.strip(), 'Độ dài sau khi xóa đầu và cuối:', len(text.strip()))\n",
    "\n",
    "#split - Chia chuỗi thành các chuỗi con dựa vào kỳ tự nào đó\n",
    "print(text1.split(' '))\n",
    "print('Lấy chữ thứ nhất:',text1.split(' ')[0])\n",
    "print('Lấy chữ thứ hai:',text1.split(' ')[1])"
   ]
  },
  {
   "cell_type": "code",
   "execution_count": 22,
   "id": "a5e9100a",
   "metadata": {},
   "outputs": [
    {
     "name": "stdout",
     "output_type": "stream",
     "text": [
      "\tPython\n"
     ]
    }
   ],
   "source": [
    "text= '\"Python\"'\n",
    "text1 = r'Python\\aa' #Sử dụng để in chuỗi ký tự có chứa [\\]\n",
    "text2= '\\tPython' #In ra thêm 1 khoảng tab trước chuỗi\n",
    "print(text2)"
   ]
  },
  {
   "cell_type": "code",
   "execution_count": null,
   "id": "1f8603b7",
   "metadata": {},
   "outputs": [],
   "source": []
  }
 ],
 "metadata": {
  "kernelspec": {
   "display_name": "Python 3 (ipykernel)",
   "language": "python",
   "name": "python3"
  },
  "language_info": {
   "codemirror_mode": {
    "name": "ipython",
    "version": 3
   },
   "file_extension": ".py",
   "mimetype": "text/x-python",
   "name": "python",
   "nbconvert_exporter": "python",
   "pygments_lexer": "ipython3",
   "version": "3.9.7"
  }
 },
 "nbformat": 4,
 "nbformat_minor": 5
}
