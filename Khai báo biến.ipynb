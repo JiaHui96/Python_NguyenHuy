{
 "cells": [
  {
   "cell_type": "code",
   "execution_count": 1,
   "id": "0ca6f1f5",
   "metadata": {},
   "outputs": [],
   "source": [
    "import turtle\n",
    "import math\n",
    "\n",
    "width= 200\n",
    "heigh= 300\n",
    "h = width*1.73/2\n",
    "\n",
    "tl= turtle.Turtle()\n",
    "tl.hideturtle()\n",
    "tl.pencolor('black')\n",
    "\n",
    "tl.penup()\n",
    "tl.backward(150)\n",
    "tl.right(90)\n",
    "tl.forward(100)\n",
    "tl.left(90)\n",
    "tl.pendown()\n",
    "\n",
    "tl.fillcolor('blue')\n",
    "tl.begin_fill()\n",
    "tl.left(90)\n",
    "tl.forward(width)\n",
    "tl.right(120)\n",
    "tl.forward(width)\n",
    "tl.right(120)\n",
    "tl.forward(width)\n",
    "tl.end_fill()\n",
    "\n",
    "tl.fillcolor('red')\n",
    "tl.begin_fill()\n",
    "tl.left(150)\n",
    "tl.forward(heigh)\n",
    "tl.left(90)\n",
    "tl.forward(width/2)\n",
    "tl.left(90)\n",
    "tl.forward(300 - h)\n",
    "tl.end_fill()\n",
    "\n",
    "tl.penup()\n",
    "tl.right(30)\n",
    "tl.forward(width)\n",
    "tl.pendown()\n",
    "tl.fillcolor('white')\n",
    "tl.begin_fill()\n",
    "tl.right(150)\n",
    "tl.forward(heigh)\n",
    "tl.right(90)\n",
    "tl.forward(100)\n",
    "tl.end_fill()\n",
    "\n",
    "turtle.done()"
   ]
  },
  {
   "cell_type": "code",
   "execution_count": null,
   "id": "32a32698",
   "metadata": {},
   "outputs": [],
   "source": []
  }
 ],
 "metadata": {
  "kernelspec": {
   "display_name": "Python 3 (ipykernel)",
   "language": "python",
   "name": "python3"
  },
  "language_info": {
   "codemirror_mode": {
    "name": "ipython",
    "version": 3
   },
   "file_extension": ".py",
   "mimetype": "text/x-python",
   "name": "python",
   "nbconvert_exporter": "python",
   "pygments_lexer": "ipython3",
   "version": "3.9.7"
  }
 },
 "nbformat": 4,
 "nbformat_minor": 5
}
