{
 "cells": [
  {
   "cell_type": "code",
   "execution_count": null,
   "id": "8eeec9f2",
   "metadata": {},
   "outputs": [],
   "source": [
    "import turtle\n",
    "\n",
    "tl= turtle.Turtle()\n",
    "tl.hideturtle()\n",
    "tl.pencolor('black')\n",
    "\n",
    "tl.fillcolor('blue')\n",
    "tl.begin_fill()\n",
    "tl.left(90)\n",
    "tl.forward(200)\n",
    "tl.right(120)\n",
    "tl.forward(200)\n",
    "tl.right(120)\n",
    "tl.forward(200)\n",
    "tl.end_fill()\n",
    "\n",
    "tl.fillcolor('red')\n",
    "tl.begin_fill()\n",
    "tl.left(150)\n",
    "tl.forward(300)\n",
    "tl.left(90)\n",
    "tl.forward(100)\n",
    "tl.left(90)\n",
    "tl.forward(126.7949192)\n",
    "tl.end_fill()\n",
    "\n",
    "tl.penup()\n",
    "tl.right(30)\n",
    "tl.forward(200)\n",
    "tl.pendown()\n",
    "tl.fillcolor('white')\n",
    "tl.begin_fill()\n",
    "tl.right(150)\n",
    "tl.forward(300)\n",
    "tl.right(90)\n",
    "tl.forward(100)\n",
    "tl.end_fill()\n",
    "\n",
    "turtle.done()\n"
   ]
  },
  {
   "cell_type": "code",
   "execution_count": null,
   "id": "54047d3f",
   "metadata": {},
   "outputs": [],
   "source": []
  }
 ],
 "metadata": {
  "kernelspec": {
   "display_name": "Python 3 (ipykernel)",
   "language": "python",
   "name": "python3"
  },
  "language_info": {
   "codemirror_mode": {
    "name": "ipython",
    "version": 3
   },
   "file_extension": ".py",
   "mimetype": "text/x-python",
   "name": "python",
   "nbconvert_exporter": "python",
   "pygments_lexer": "ipython3",
   "version": "3.9.7"
  }
 },
 "nbformat": 4,
 "nbformat_minor": 5
}
