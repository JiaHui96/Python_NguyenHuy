{
 "cells": [
  {
   "cell_type": "code",
   "execution_count": 20,
   "id": "4b8317e8",
   "metadata": {},
   "outputs": [
    {
     "name": "stdout",
     "output_type": "stream",
     "text": [
      "Nguyễn Huy\n"
     ]
    }
   ],
   "source": [
    "fullname= '   nGuyễn hUy   '\n",
    "fullname= fullname.strip()\n",
    "fullname= fullname.lower()\n",
    "firstname= fullname.split(' ')[0]\n",
    "lastname= fullname.split(' ')[1]\n",
    "firstname= firstname[0].upper() + firstname[1:] #Viết hoa chữ cái đầu: Lấy chữ cái đầu [First= First[0]] viết hoa thêm upper \n",
    "lastname= lastname[0].upper() + lastname[1:]\n",
    "print(firstname, lastname)\n",
    "\n",
    "\n"
   ]
  },
  {
   "cell_type": "code",
   "execution_count": null,
   "id": "b59c306d",
   "metadata": {},
   "outputs": [],
   "source": []
  }
 ],
 "metadata": {
  "kernelspec": {
   "display_name": "Python 3 (ipykernel)",
   "language": "python",
   "name": "python3"
  },
  "language_info": {
   "codemirror_mode": {
    "name": "ipython",
    "version": 3
   },
   "file_extension": ".py",
   "mimetype": "text/x-python",
   "name": "python",
   "nbconvert_exporter": "python",
   "pygments_lexer": "ipython3",
   "version": "3.9.7"
  }
 },
 "nbformat": 4,
 "nbformat_minor": 5
}
