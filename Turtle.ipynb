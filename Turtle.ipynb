{
 "cells": [
  {
   "cell_type": "code",
   "execution_count": 1,
   "id": "330d93ee",
   "metadata": {},
   "outputs": [],
   "source": [
    "# Bước 1: Import module turtle\n",
    "import turtle\n",
    "\n",
    "# Bước 2: Tạo đối tượng turtle\n",
    "tl= turtle.Turtle()\n",
    "tl.shape('turtle')\n",
    "#Muốn thay đổi nét bút, hoặc màu nét vẽ cần thay đổi trước khi vẽ...., thực hiện tại bước 2.\n",
    "tl.pensize(5) #Thay đổi đậm nhạt nét bút.\n",
    "tl.fillcolor('green') #Thay đổi màu của rùa.\n",
    "tl.pencolor('red') #Có thể sử dụng bằng mã màu thay cho tên màu bằng tiếng anh.\n",
    "tl.speed(1) #Thay đổi tốc độ của rùa.\n",
    "\n",
    "# Bước 3: Điều khiển đối tượng turtle\n",
    "tl.begin_fill() #Câu lệnh bắt đầu tô màu bên trong khung hình\n",
    "tl.forward(200)\n",
    "tl.right(90)\n",
    "tl.forward(200)\n",
    "tl.right(90)\n",
    "tl.forward(200)\n",
    "tl.right(90)\n",
    "tl.forward(200)\n",
    "tl.end_fill() #Kết thúc tô màu trong khung hình\n",
    "\n",
    "tl.penup() #Lệnh nhấc bút lên\n",
    "tl.forward(100)\n",
    "tl.pendown() #Lệnh đặt bút xuống\n",
    "\n",
    "tl.fillcolor('yellow')\n",
    "tl.begin_fill()\n",
    "tl.circle(50) #Lệnh vẽ hình tròn bán kính 50\n",
    "tl.end_fill()\n",
    "\n",
    "# Bước 4: Hoàn thành vẽ \n",
    "turtle.done()"
   ]
  },
  {
   "cell_type": "code",
   "execution_count": null,
   "id": "2320225b",
   "metadata": {},
   "outputs": [],
   "source": []
  }
 ],
 "metadata": {
  "kernelspec": {
   "display_name": "Python 3 (ipykernel)",
   "language": "python",
   "name": "python3"
  },
  "language_info": {
   "codemirror_mode": {
    "name": "ipython",
    "version": 3
   },
   "file_extension": ".py",
   "mimetype": "text/x-python",
   "name": "python",
   "nbconvert_exporter": "python",
   "pygments_lexer": "ipython3",
   "version": "3.9.7"
  }
 },
 "nbformat": 4,
 "nbformat_minor": 5
}
