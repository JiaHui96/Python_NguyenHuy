{
 "cells": [
  {
   "cell_type": "code",
   "execution_count": 2,
   "id": "b67119fd",
   "metadata": {},
   "outputs": [
    {
     "name": "stdout",
     "output_type": "stream",
     "text": [
      "Hello!\n",
      "Hello!\n",
      "Hello!\n",
      "Hello!\n",
      "Hello!\n"
     ]
    }
   ],
   "source": [
    "for i in range(5,10):\n",
    "    print('Hello!')"
   ]
  },
  {
   "cell_type": "code",
   "execution_count": 7,
   "id": "eaf21b56",
   "metadata": {},
   "outputs": [
    {
     "name": "stdout",
     "output_type": "stream",
     "text": [
      "N= 4\n",
      "24\n"
     ]
    }
   ],
   "source": [
    "N = int(input('N= '))\n",
    "S= 1\n",
    "for i in range(1, N+1):\n",
    "    S= S*i\n",
    "print(S)"
   ]
  },
  {
   "cell_type": "code",
   "execution_count": 10,
   "id": "46ba7e8f",
   "metadata": {},
   "outputs": [
    {
     "name": "stdout",
     "output_type": "stream",
     "text": [
      "Team1 : 111\n",
      "Team2 : 000\n",
      "0 3\n"
     ]
    }
   ],
   "source": [
    "board1 = input('Team1 : ')\n",
    "board2 = input('Team2 : ')\n",
    "\n",
    "score1= 0 \n",
    "score2= 0\n",
    "\n",
    "for i in range(len(board1)):  # Thay bằng range: for i in range(len(board1))\n",
    "    if board1[1]==\"1\": \n",
    "        score1 += 1 \n",
    "for i in board2:\n",
    "    if i==\"1\": \n",
    "        score2 += 1 \n",
    "print(score2,score1)\n",
    "\n"
   ]
  },
  {
   "cell_type": "code",
   "execution_count": null,
   "id": "dc39e837",
   "metadata": {},
   "outputs": [],
   "source": []
  }
 ],
 "metadata": {
  "kernelspec": {
   "display_name": "Python 3 (ipykernel)",
   "language": "python",
   "name": "python3"
  },
  "language_info": {
   "codemirror_mode": {
    "name": "ipython",
    "version": 3
   },
   "file_extension": ".py",
   "mimetype": "text/x-python",
   "name": "python",
   "nbconvert_exporter": "python",
   "pygments_lexer": "ipython3",
   "version": "3.9.7"
  }
 },
 "nbformat": 4,
 "nbformat_minor": 5
}
