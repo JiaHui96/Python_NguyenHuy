{
 "cells": [
  {
   "cell_type": "code",
   "execution_count": 1,
   "id": "a5f118b9",
   "metadata": {},
   "outputs": [
    {
     "name": "stdout",
     "output_type": "stream",
     "text": [
      "Nhập M: 3\n",
      "Nhập N: 4\n",
      "3 x 1 = 3\t4 x 1 = 4\t\n",
      "3 x 2 = 6\t4 x 2 = 8\t\n",
      "3 x 3 = 9\t4 x 3 = 12\t\n",
      "3 x 4 = 12\t4 x 4 = 16\t\n",
      "3 x 5 = 15\t4 x 5 = 20\t\n",
      "3 x 6 = 18\t4 x 6 = 24\t\n",
      "3 x 7 = 21\t4 x 7 = 28\t\n",
      "3 x 8 = 24\t4 x 8 = 32\t\n",
      "3 x 9 = 27\t4 x 9 = 36\t\n"
     ]
    }
   ],
   "source": [
    "M= int(input('Nhập M: '))\n",
    "N= int(input('Nhập N: '))\n",
    "\n",
    "for j in range(1,10): # Vòng lặp j in ra 9 lần cho vòng lặp i \n",
    "    for i in range(M, N+1):\n",
    "        print('{0} x {1} = {2}'.format(i, j, i*j), end= '\\t') # In ra theo hàng ngang cách nhau 1 khoảng tab \n",
    "    print('') # sau khi in vòng lặp i (M*1 ... N*1 thì in ra 1 khoảng trắng(khi in tự động xuống dòng))"
   ]
  },
  {
   "cell_type": "code",
   "execution_count": 2,
   "id": "6e3bfc88",
   "metadata": {},
   "outputs": [
    {
     "name": "stdout",
     "output_type": "stream",
     "text": [
      "Nghiệm gần đúng là a: -0.5885391235351562 và giá trị của fa là -8.847762839270246e-06: \n",
      "Nghiệm gần đúng là b: -0.588531494140625 và giá trị của fb là 1.7334023406645471e-06: \n",
      "Tìm nghiệm gần đúng sau 18 bước\n"
     ]
    }
   ],
   "source": [
    "#Bài 2: Tìm nghiệm gần đúng của hàm f(x) = e^x + sin(x) trong khoảng [-1, 1], với sai lệnh của nghiệm là alpha = 0.00001.\n",
    "#Gợi ý: dùng phương pháp chia đôi (bài này chỉ while mới giải quyết được, for hay cái khác không giải quyết được)\n",
    "import math \n",
    "a = -1 \n",
    "b = 1\n",
    "alpha = 0.00001\n",
    "fa = math.pow(math.e, a) + math.sin(a)\n",
    "fb = math.pow(math.e, b) + math.sin(b)\n",
    "step = 0\n",
    "\n",
    "if fa*fb>0:\n",
    "    print('Không có nghiệm trong khoảng đã cho')\n",
    "else:\n",
    "    while math.fabs(a-b)>alpha:\n",
    "        h = (a+b)/2\n",
    "        fh = math.pow(math.e, h) + math.sin(h)\n",
    "        if fa*fh>0:\n",
    "            a = h\n",
    "        else:\n",
    "            b = h\n",
    "        fa = math.pow(math.e, a) + math.sin(a)\n",
    "        fb = math.pow(math.e, b) + math.sin(b)\n",
    "        step+=1 \n",
    "    print('Nghiệm gần đúng là a: {0} và giá trị của fa là {1}: '.format(a, fa))\n",
    "    print('Nghiệm gần đúng là b: {0} và giá trị của fb là {1}: '.format(b, fb))\n",
    "    print('Tìm nghiệm gần đúng sau {0} bước'.format(step))"
   ]
  },
  {
   "cell_type": "code",
   "execution_count": 3,
   "id": "5b867618",
   "metadata": {},
   "outputs": [
    {
     "name": "stdout",
     "output_type": "stream",
     "text": [
      "***\n",
      "**\n",
      "*\n"
     ]
    }
   ],
   "source": [
    "n= 3\n",
    "\n",
    "for i in range(n): \n",
    "    print('*'*(n-i)) # Thay bằng vòng lặp in ra * n-i "
   ]
  },
  {
   "cell_type": "code",
   "execution_count": 7,
   "id": "f0c36658",
   "metadata": {},
   "outputs": [
    {
     "name": "stdout",
     "output_type": "stream",
     "text": [
      "******\n",
      "*****\n",
      "****\n",
      "***\n",
      "**\n",
      "*\n"
     ]
    }
   ],
   "source": [
    "n= 6 \n",
    "for i in range(n):\n",
    "    for j in range(n-i):\n",
    "        print('*', end='')\n",
    "    print()\n",
    "        \n",
    "        \n",
    "        "
   ]
  },
  {
   "cell_type": "code",
   "execution_count": 18,
   "id": "abc86405",
   "metadata": {},
   "outputs": [
    {
     "name": "stdout",
     "output_type": "stream",
     "text": [
      "\n",
      "*\n",
      "**\n",
      "***\n",
      "****\n",
      "*****\n",
      "******\n",
      "*****\n",
      "****\n",
      "***\n",
      "**\n",
      "*\n"
     ]
    }
   ],
   "source": [
    "n= 6\n",
    "for i in range(n):\n",
    "    for j in range (i):\n",
    "        print('*', end='')\n",
    "    print()\n",
    "for i in range(n):\n",
    "    for j in range (n-i):\n",
    "        print('*', end='')\n",
    "    print()"
   ]
  },
  {
   "cell_type": "code",
   "execution_count": 2,
   "id": "1eaab5a5",
   "metadata": {},
   "outputs": [
    {
     "name": "stdout",
     "output_type": "stream",
     "text": [
      "*\n",
      "**\n",
      "***\n",
      "****\n",
      "*****\n",
      "****\n",
      "***\n",
      "**\n",
      "*\n"
     ]
    }
   ],
   "source": [
    "n= 5 \n",
    "for i in range(2*n-1):\n",
    "    if i<= (n-1):\n",
    "        print('*'*(i+1))\n",
    "    else:\n",
    "        print('*'*(2*n-1-i))"
   ]
  },
  {
   "cell_type": "code",
   "execution_count": null,
   "id": "a5778ebc",
   "metadata": {},
   "outputs": [],
   "source": []
  }
 ],
 "metadata": {
  "kernelspec": {
   "display_name": "Python 3 (ipykernel)",
   "language": "python",
   "name": "python3"
  },
  "language_info": {
   "codemirror_mode": {
    "name": "ipython",
    "version": 3
   },
   "file_extension": ".py",
   "mimetype": "text/x-python",
   "name": "python",
   "nbconvert_exporter": "python",
   "pygments_lexer": "ipython3",
   "version": "3.9.7"
  }
 },
 "nbformat": 4,
 "nbformat_minor": 5
}
