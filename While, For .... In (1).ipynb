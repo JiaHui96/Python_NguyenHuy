{
 "cells": [
  {
   "cell_type": "code",
   "execution_count": 1,
   "id": "6020c377",
   "metadata": {},
   "outputs": [
    {
     "name": "stdout",
     "output_type": "stream",
     "text": [
      "Hello!\n",
      "Hello!\n",
      "Hello!\n",
      "Hello!\n",
      "Hello!\n",
      "Hello!\n",
      "Hello!\n",
      "Hello!\n",
      "Hello!\n",
      "Hello!\n",
      "Kết thúc vòng lặp\n"
     ]
    }
   ],
   "source": [
    "#Nguyên tắc: Luôn có 1 biến chạy (biến đếm) counter\n",
    "i= 0 \n",
    "while i<10:\n",
    "    print('Hello!')\n",
    "    i= i+1\n",
    "    \n",
    "print('Kết thúc vòng lặp')"
   ]
  },
  {
   "cell_type": "code",
   "execution_count": 2,
   "id": "01d06109",
   "metadata": {},
   "outputs": [
    {
     "name": "stdout",
     "output_type": "stream",
     "text": [
      "1 2 3 4 5 6 7 8 9 10 11 12 13 14 15 16 17 18 19 20 21 22 23 24 25 26 27 28 29 30 31 32 33 34 35 36 37 38 39 40 41 42 43 44 45 46 47 48 49 50 51 52 53 54 55 56 57 58 59 60 61 62 63 64 65 66 67 68 69 70 71 72 73 74 75 76 77 78 79 80 81 82 83 84 85 86 87 88 89 90 91 92 93 94 95 96 97 98 99 100 Kết thúc\n"
     ]
    }
   ],
   "source": [
    "i=1 \n",
    "while i<= 100:\n",
    "    print(i, end=' ')\n",
    "    i=i+1\n",
    "print('Kết thúc')"
   ]
  },
  {
   "cell_type": "code",
   "execution_count": 3,
   "id": "d15a28a7",
   "metadata": {},
   "outputs": [
    {
     "name": "stdout",
     "output_type": "stream",
     "text": [
      "Nhập số tự nhiên: 45\n",
      "3\n",
      "9\n",
      "15\n",
      "21\n",
      "27\n",
      "33\n",
      "39\n",
      "Kết thúc\n"
     ]
    }
   ],
   "source": [
    "N= int(input('Nhập số tự nhiên: '))\n",
    "\n",
    "i=0 \n",
    "while i<N:\n",
    "    if i%3==0 and i%6!=0:\n",
    "        print(i)\n",
    "    i=i+1\n",
    "print('Kết thúc')"
   ]
  },
  {
   "cell_type": "code",
   "execution_count": null,
   "id": "745ea3df",
   "metadata": {},
   "outputs": [],
   "source": [
    "import turtle\n",
    "\n",
    "tl= turtle.Turtle()\n",
    "\n",
    "i=0\n",
    "while i<5:\n",
    "    tl.forward(100)\n",
    "    tl.right(144)\n",
    "    i= i+1\n",
    "turtle.done()"
   ]
  },
  {
   "cell_type": "code",
   "execution_count": null,
   "id": "da46fce5",
   "metadata": {},
   "outputs": [],
   "source": [
    "#Tính tổng từ 1 đến 100\n",
    "i=0 \n",
    "S=0\n",
    "while i<=100:\n",
    "    S= S+i\n",
    "    i= i+1\n",
    "print(S)\n",
    "    "
   ]
  },
  {
   "cell_type": "code",
   "execution_count": null,
   "id": "dafeb404",
   "metadata": {},
   "outputs": [],
   "source": [
    "i= 1 \n",
    "S= 0\n",
    "while True:\n",
    "    S= S+i\n",
    "    i= i+1\n",
    "    if i>100:\n",
    "        break\n",
    "print(S)"
   ]
  },
  {
   "cell_type": "code",
   "execution_count": null,
   "id": "8595c6df",
   "metadata": {},
   "outputs": [],
   "source": [
    "text= 'abc122adf'\n",
    "count= 0 \n",
    "for i in text:\n",
    "    if i=='0' or i=='1' or i=='2':# or i==3 or i==4 or i==5 or i==6 or i==7 or i==8 or i==9:\n",
    "        count+= 1\n",
    "       # print(i)\n",
    "print(count)\n",
    "\n",
    "        \n",
    "        "
   ]
  },
  {
   "cell_type": "code",
   "execution_count": null,
   "id": "b2be2952",
   "metadata": {},
   "outputs": [],
   "source": [
    "text= 'abc122adf'\n",
    "count= 0 \n",
    "for i text:\n",
    "    if i in ('0123456789'):\n",
    "        count+=1\n",
    "print(count)"
   ]
  },
  {
   "cell_type": "code",
   "execution_count": null,
   "id": "3d668290",
   "metadata": {},
   "outputs": [],
   "source": []
  }
 ],
 "metadata": {
  "kernelspec": {
   "display_name": "Python 3 (ipykernel)",
   "language": "python",
   "name": "python3"
  },
  "language_info": {
   "codemirror_mode": {
    "name": "ipython",
    "version": 3
   },
   "file_extension": ".py",
   "mimetype": "text/x-python",
   "name": "python",
   "nbconvert_exporter": "python",
   "pygments_lexer": "ipython3",
   "version": "3.9.7"
  }
 },
 "nbformat": 4,
 "nbformat_minor": 5
}
