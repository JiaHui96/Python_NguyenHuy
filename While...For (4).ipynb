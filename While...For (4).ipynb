{
 "cells": [
  {
   "cell_type": "code",
   "execution_count": 13,
   "id": "bb97d7e6",
   "metadata": {},
   "outputs": [
    {
     "name": "stdout",
     "output_type": "stream",
     "text": [
      "1\n",
      "2\n",
      "3\n",
      "4\n",
      "6\n",
      "8\n",
      "12\n",
      "24\n"
     ]
    }
   ],
   "source": [
    "N = 24\n",
    "for i in range(1, N + 1):\n",
    "    if N%i==0:\n",
    "        print(i)"
   ]
  },
  {
   "cell_type": "code",
   "execution_count": 30,
   "id": "504c12a5",
   "metadata": {},
   "outputs": [
    {
     "name": "stdout",
     "output_type": "stream",
     "text": [
      "2\n",
      "13 là số nguyên tố\n"
     ]
    }
   ],
   "source": [
    "N = 13 \n",
    "count = 0 \n",
    "for i in range(1, (N+1)):\n",
    "    if N%i==0:\n",
    "        count += 1\n",
    "print(count)\n",
    "if count== 2 :\n",
    "    print('{0} là số nguyên tố'.format(N))"
   ]
  },
  {
   "cell_type": "code",
   "execution_count": 32,
   "id": "9625d771",
   "metadata": {},
   "outputs": [
    {
     "name": "stdout",
     "output_type": "stream",
     "text": [
      "13 là số nguyên tố\n"
     ]
    }
   ],
   "source": [
    "#Chữa:\n",
    "N = 13\n",
    "nt = True\n",
    "for i in range(2, N):\n",
    "    if N%i==0:\n",
    "        nt = False\n",
    "        break\n",
    "if nt:\n",
    "    print('{0} là số nguyên tố'.format(N))\n",
    "else :\n",
    "    print('{0} không là số nguyên tố'.format(N))"
   ]
  },
  {
   "cell_type": "code",
   "execution_count": 34,
   "id": "8b63dc51",
   "metadata": {},
   "outputs": [
    {
     "name": "stdout",
     "output_type": "stream",
     "text": [
      "Ước chung lớn nhất của 2 số là: 6\n"
     ]
    }
   ],
   "source": [
    "#Ức chung lớn nhất của 2 số: \n",
    "N = 12 \n",
    "M = 18 \n",
    "\n",
    "while N != M: \n",
    "    if M > N: \n",
    "        M = M - N\n",
    "    else: \n",
    "        N = N - M \n",
    "else: \n",
    "    print('Ước chung lớn nhất của 2 số là: {0}'. format(N))"
   ]
  },
  {
   "cell_type": "code",
   "execution_count": 38,
   "id": "d57f48d2",
   "metadata": {},
   "outputs": [
    {
     "name": "stdout",
     "output_type": "stream",
     "text": [
      "['nguyễn', '', 'gia', 'huy']\n",
      "Nguyễn Gia Huy "
     ]
    }
   ],
   "source": [
    "name = '   nGuyễn  giA huy   '\n",
    "name = name.strip().lower().split(' ')\n",
    "print(name)\n",
    "for i in name:\n",
    "    if i != '':\n",
    "        chuan = i[0].upper() + i[1:]\n",
    "        print(chuan, end=' ')"
   ]
  },
  {
   "cell_type": "code",
   "execution_count": null,
   "id": "c9669cd8",
   "metadata": {},
   "outputs": [],
   "source": []
  }
 ],
 "metadata": {
  "kernelspec": {
   "display_name": "Python 3 (ipykernel)",
   "language": "python",
   "name": "python3"
  },
  "language_info": {
   "codemirror_mode": {
    "name": "ipython",
    "version": 3
   },
   "file_extension": ".py",
   "mimetype": "text/x-python",
   "name": "python",
   "nbconvert_exporter": "python",
   "pygments_lexer": "ipython3",
   "version": "3.9.7"
  }
 },
 "nbformat": 4,
 "nbformat_minor": 5
}
