{
 "cells": [
  {
   "cell_type": "code",
   "execution_count": 17,
   "id": "75c8ff43",
   "metadata": {},
   "outputs": [
    {
     "name": "stdout",
     "output_type": "stream",
     "text": [
      "Nhập 1 post bất kì độ:\n",
      " A row has erupted after the chief of the World Health Organization (WHO) accused Taiwan’s leaders of spearheading personal attacks on him. WHO chief Tedros Adhanom Ghebreyesus said he had been subjected to racist comments and death threats for months. But President Tsai Ing-wen said Taiwan opposed any form of discrimination, and invited Dr Tedros to visit the island.\n",
      "\n",
      "Bài post đạt tiêu chuẩn không? True\n"
     ]
    }
   ],
   "source": [
    "text= input('Nhập 1 post bất kì độ:\\n ')\n",
    "\n",
    "#Block= text!='sex' #and text!='racist' and text!='violence' and text!='child abuse' and text!='discrimination'\n",
    "Block=  text!='%racist%'\n",
    "print('\\nBài post đạt tiêu chuẩn không?', Block)"
   ]
  },
  {
   "cell_type": "code",
   "execution_count": 20,
   "id": "97fb889b",
   "metadata": {},
   "outputs": [
    {
     "name": "stdout",
     "output_type": "stream",
     "text": [
      "But President Tsai Ing-wen said Taiwan opposed any form of discrimination, and invited Dr Tedros to visit the island.\n",
      "discrimination\n",
      "1\n"
     ]
    }
   ],
   "source": [
    "def kiem_tra_chuoi_con(s1, s2):\n",
    "   #Su dung toan tu in de kiem tra su xuat hien cua chuoi con\n",
    "   if s2 in s1:\n",
    "       #Su dung phuong thuc count() de dem so lan xuat hien cua chuoi con\n",
    "       print(s1.count(s2))\n",
    "   else:\n",
    "       print('Chuoi \"{}\" khong xuat hien trong chuoi \"{}\"'.format(s2, s1))\n",
    "\n",
    "#Nhap cac chuoi tu ban phim\n",
    "s1 = input()\n",
    "s2 = input()\n",
    "\n",
    "#Goi ham xu ly va truyen cac tham so can thiet\n",
    "kiem_tra_chuoi_con(s1, s2)\n",
    "\n"
   ]
  },
  {
   "cell_type": "code",
   "execution_count": 41,
   "id": "d3808e2d",
   "metadata": {},
   "outputs": [
    {
     "name": "stdout",
     "output_type": "stream",
     "text": [
      "1\n",
      "Bài post đạt tiêu chuẩn không? False\n"
     ]
    }
   ],
   "source": [
    "text= ' ajhdasd discrimination abcđ '\n",
    "#test1= 'se'\n",
    "long1= text.count('sex') or text.count('racist') or text.count('discrimination')\n",
    "check= long1==0 \n",
    "print(long1)\n",
    "print('Bài post đạt tiêu chuẩn không?', check)"
   ]
  },
  {
   "cell_type": "code",
   "execution_count": null,
   "id": "835efc08",
   "metadata": {},
   "outputs": [],
   "source": []
  }
 ],
 "metadata": {
  "kernelspec": {
   "display_name": "Python 3 (ipykernel)",
   "language": "python",
   "name": "python3"
  },
  "language_info": {
   "codemirror_mode": {
    "name": "ipython",
    "version": 3
   },
   "file_extension": ".py",
   "mimetype": "text/x-python",
   "name": "python",
   "nbconvert_exporter": "python",
   "pygments_lexer": "ipython3",
   "version": "3.9.7"
  }
 },
 "nbformat": 4,
 "nbformat_minor": 5
}
