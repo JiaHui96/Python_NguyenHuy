{
 "cells": [
  {
   "cell_type": "code",
   "execution_count": 1,
   "id": "dcf62c57",
   "metadata": {},
   "outputs": [],
   "source": [
    "import turtle \n",
    "\n",
    "tl= turtle.Turtle()\n",
    "tl.hideturtle()\n",
    "tl.pencolor('white')\n",
    "\n",
    "\n",
    "tl.penup()\n",
    "tl.backward(50)\n",
    "tl.right(90)\n",
    "tl.forward(150)\n",
    "tl.left(90)\n",
    "tl.pendown()\n",
    "\n",
    "tl.fillcolor('yellow')\n",
    "tl.begin_fill()\n",
    "tl.left(144)\n",
    "tl.forward(100)\n",
    "tl.right(36)\n",
    "tl.forward(100)\n",
    "tl.right(36)\n",
    "tl.forward(100)\n",
    "tl.right(36)\n",
    "tl.forward(100)\n",
    "tl.right(36)\n",
    "tl.forward(100)\n",
    "tl.right(36)\n",
    "tl.forward(100)\n",
    "tl.right(36)\n",
    "tl.forward(100)\n",
    "tl.right(36)\n",
    "tl.forward(100)\n",
    "tl.right(36)\n",
    "tl.forward(100)\n",
    "tl.right(36)\n",
    "tl.forward(100)\n",
    "tl.end_fill()\n",
    "\n",
    "turtle.done()"
   ]
  },
  {
   "cell_type": "code",
   "execution_count": null,
   "id": "c284ae7d",
   "metadata": {},
   "outputs": [],
   "source": []
  }
 ],
 "metadata": {
  "kernelspec": {
   "display_name": "Python 3 (ipykernel)",
   "language": "python",
   "name": "python3"
  },
  "language_info": {
   "codemirror_mode": {
    "name": "ipython",
    "version": 3
   },
   "file_extension": ".py",
   "mimetype": "text/x-python",
   "name": "python",
   "nbconvert_exporter": "python",
   "pygments_lexer": "ipython3",
   "version": "3.9.7"
  }
 },
 "nbformat": 4,
 "nbformat_minor": 5
}
